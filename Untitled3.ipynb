{
  "nbformat": 4,
  "nbformat_minor": 0,
  "metadata": {
    "colab": {
      "name": "Untitled3.ipynb",
      "version": "0.3.2",
      "provenance": [],
      "collapsed_sections": [],
      "include_colab_link": true
    },
    "kernelspec": {
      "name": "python3",
      "display_name": "Python 3"
    }
  },
  "cells": [
    {
      "cell_type": "markdown",
      "metadata": {
        "id": "view-in-github",
        "colab_type": "text"
      },
      "source": [
        "<a href=\"https://colab.research.google.com/github/olona1/hello-world/blob/master/Untitled3.ipynb\" target=\"_parent\"><img src=\"https://colab.research.google.com/assets/colab-badge.svg\" alt=\"Open In Colab\"/></a>"
      ]
    },
    {
      "cell_type": "code",
      "metadata": {
        "id": "NMmVGRjBYFi7",
        "colab_type": "code",
        "colab": {}
      },
      "source": [
        "import dialogflow_v2beta1\n",
        "import json\n",
        "import requests\n",
        "import beautifulsoup\n",
        "\n",
        "url = 'https://console.dialogflow.com/api-client/demo/embedded/7e351be3-67f9-409f-beeb-72d0c5f4a9b3'\n",
        "\n",
        "data = requests.get(url)\n",
        "json_data = json.loads(data.text)\n",
        "\n",
        "\n",
        "input('How can i help you')\n",
        "print(json_data.text)\n",
        "\n",
        "#data = requests.get(url)\n",
        "\n",
        "#json_data = json.loads(data.text)\n",
        "\n"
      ],
      "execution_count": 0,
      "outputs": []
    },
    {
      "cell_type": "code",
      "metadata": {
        "id": "bDiFXzakFnba",
        "colab_type": "code",
        "colab": {}
      },
      "source": [
        "\"\"\"Install the following requirements:\n",
        "    dialogflow        0.5.1\n",
        "    google-api-core   1.4.1\n",
        "\"\"\"\n",
        "import dialogflow\n",
        "from google.api_core.exceptions import InvalidArgument\n",
        "DIALOGFLOW_PROJECT_ID = 'xcoding-dvajxv'\n",
        "DIALOGFLOW_LANGUAGE_CODE = 'en-US'\n",
        "GOOGLE_APPLICATION_CREDENTIALS = 'xcoding.json'\n",
        "SESSION_ID = 'xcoding'\n",
        "text_to_be_analyzed = \"Hi\"\n",
        "session_client = dialogflow.SessionsClient()\n",
        "session = session_client.session_path(DIALOGFLOW_PROJECT_ID, SESSION_ID)\n",
        "text_input = dialogflow.types.TextInput(text=text_to_be_analyzed, language_code=DIALOGFLOW_LANGUAGE_CODE)\n",
        "query_input = dialogflow.types.QueryInput(text=text_input)\n",
        "try:\n",
        "    response = session_client.detect_intent(session=session, query_input=query_input)\n",
        "except InvalidArgument:\n",
        "    raise\n",
        "print(\"Query text:\", response.query_result.query_text)\n",
        "print(\"Detected intent:\", response.query_result.intent.display_name)\n",
        "print(\"Detected intent confidence:\", response.query_result.intent_detection_confidence)\n",
        "print(\"Fulfillment text:\", response.query_result.fulfillment_text)\n",
        "\n"
      ],
      "execution_count": 0,
      "outputs": []
    },
    {
      "cell_type": "code",
      "metadata": {
        "id": "dX7Brudzrtwj",
        "colab_type": "code",
        "colab": {}
      },
      "source": [
        "import os\n",
        "os.environ[\"GOOGLE_APPLICATION_CREDENTIALS\"]=\"/content/xcoding-dvajxv-ff1d7589c2af.json\"\n",
        "\n",
        "def detect_intent_texts(project_id, session_id, texts, language_code):\n",
        "    \"\"\"Returns the result of detect intent with texts as inputs.\n",
        "\n",
        "    Using the same `session_id` between requests allows continuation\n",
        "    of the conversation.\"\"\"\n",
        "    import dialogflow_v2 as dialogflow\n",
        "    session_client = dialogflow.SessionsClient()\n",
        "\n",
        "    session = session_client.session_path(project_id, session_id)\n",
        "    print('Session path: {}\\n'.format(session))\n",
        "\n",
        "    \n",
        "    for text in texts :\n",
        "        text_input = dialogflow.types.TextInput(\n",
        "            text=text, language_code=language_code)\n",
        "\n",
        "        query_input = dialogflow.types.QueryInput(text=text_input)\n",
        "\n",
        "        response = session_client.detect_intent(\n",
        "            session=session, query_input=query_input)\n",
        "\n",
        "        print('=' * 20)\n",
        "        print('Query text: {}'.format(response.query_result.query_text))\n",
        "        print('Detected intent: {} (confidence: {})\\n'.format(\n",
        "            response.query_result.intent.display_name,\n",
        "            response.query_result.intent_detection_confidence))\n",
        "        print('Fulfillment text: {}\\n'.format(\n",
        "            response.query_result.fulfillment_text))\n",
        "\n",
        "n = True\n",
        "\n",
        "while n == True:\n",
        "  p = input()\n",
        "  detect_intent_texts('xcoding-dvajxv','123456789',p,'en') \n",
        "\n"
      ],
      "execution_count": 0,
      "outputs": []
    },
    {
      "cell_type": "code",
      "metadata": {
        "id": "gtDb7F3KG6c1",
        "colab_type": "code",
        "colab": {}
      },
      "source": [
        "pip install google-api-core"
      ],
      "execution_count": 0,
      "outputs": []
    }
  ]
}