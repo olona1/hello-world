{
  "nbformat": 4,
  "nbformat_minor": 0,
  "metadata": {
    "colab": {
      "name": "Untitled0.ipynb",
      "version": "0.3.2",
      "provenance": [],
      "collapsed_sections": [],
      "include_colab_link": true
    },
    "kernelspec": {
      "name": "python3",
      "display_name": "Python 3"
    }
  },
  "cells": [
    {
      "cell_type": "markdown",
      "metadata": {
        "id": "view-in-github",
        "colab_type": "text"
      },
      "source": [
        "<a href=\"https://colab.research.google.com/github/olona1/hello-world/blob/master/Untitled0.ipynb\" target=\"_parent\"><img src=\"https://colab.research.google.com/assets/colab-badge.svg\" alt=\"Open In Colab\"/></a>"
      ]
    },
    {
      "cell_type": "code",
      "metadata": {
        "id": "9rI1dSLPsGje",
        "colab_type": "code",
        "colab": {}
      },
      "source": [
        "'''\n",
        "  welcome to Words of War game\n",
        "'''\n",
        "#declaring lists\n",
        "letters = ['a','b','c']\n",
        "\n",
        "point_for_player1 = 0\n",
        "point_for_player2 = 0\n",
        "\n",
        "print('Welcome To Words of War!!  \\n please enter your names below :)')\n",
        "print()\n",
        "player1 = input('enter name for player 1 : ')\n",
        "print()\n",
        "player2 = input('enter name for player 2 : ')\n",
        "players = [player1,player2]\n",
        "count = 0\n",
        "\n",
        "print('goodluck '+player1 + ' and '+ player2 +'\\n MAY THE BEST MAN WIN')\n",
        "print()\n",
        "\n",
        "while len(letters) != 0:\n",
        "  \n",
        "  player = players[count]\n",
        "  \n",
        "  letter_found = False\n",
        "  \n",
        "  word = input(player + ' please enter any word : ')\n",
        "  aChar = word[0].lower()\n",
        "  \n",
        "  for letter in letters:\n",
        "    if letter == aChar:\n",
        "      letters.remove(letter)\n",
        "      letter_found = True\n",
        "      print(letter + \" has been removed\")\n",
        "      if count == 0:\n",
        "        point_for_player1 += 1\n",
        "      else:\n",
        "        point_for_player2 += 1\n",
        "        \n",
        "  if letter_found == False:\n",
        "    print(aChar+'has been taken')\n",
        "    if count == 0 :\n",
        "      point_for_player1 -= 1\n",
        "    else:\n",
        "      point_for_player2 -= 1\n",
        "      \n",
        "  if count == 0:\n",
        "    count += 1\n",
        "  elif count == 1:\n",
        "    count -= 1\n",
        "#printing the scores at the end of the game   \n",
        "print()\n",
        "print(players[0] +'\\t\\t\\t' + players[1])\n",
        "\n",
        "print(str(point_for_player1) +'\\t\\t\\t' + str(point_for_player2))\n",
        "print()\n",
        "\n",
        "if point_for_player1 > point_for_player2 :\n",
        "  print('\\tCONGRATULATIONS '+player1 +' YOU WON!!')\n",
        "  \n",
        "elif point_for_player1 == point_for_player2 :\n",
        "  print('\\t\\t\\tIT\\'S A TIE')\n",
        "else:\n",
        "  print('\\tCONGRATULATIONS '+player2+' YOU WON!!')"
      ],
      "execution_count": 0,
      "outputs": []
    }
  ]
}